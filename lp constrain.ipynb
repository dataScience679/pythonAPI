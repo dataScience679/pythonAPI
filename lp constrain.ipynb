{
 "cells": [
  {
   "cell_type": "code",
   "execution_count": 5,
   "metadata": {
    "colab": {
     "base_uri": "https://localhost:8080/"
    },
    "id": "aIZxy2ws_Mil",
    "outputId": "dcd4600e-25ea-4594-deb5-b55abd8b7b03"
   },
   "outputs": [
    {
     "name": "stdout",
     "output_type": "stream",
     "text": [
      "Defaulting to user installation because normal site-packages is not writeable\n",
      "Requirement already satisfied: pulp in c:\\users\\c-mhanefy\\appdata\\roaming\\python\\python310\\site-packages (2.7.0)\n"
     ]
    }
   ],
   "source": [
    "# !pip install pulp"
   ]
  },
  {
   "cell_type": "code",
   "execution_count": 6,
   "metadata": {
    "id": "2IbBdHaB_VVZ"
   },
   "outputs": [],
   "source": [
    "import pulp\n",
    "import timeit"
   ]
  },
  {
   "cell_type": "code",
   "execution_count": null,
   "metadata": {
    "colab": {
     "base_uri": "https://localhost:8080/"
    },
    "id": "93sg0v37_WPy",
    "outputId": "6ec0dfcb-9de6-4d2a-9b5c-12e5329701a3"
   },
   "outputs": [
    {
     "name": "stdout",
     "output_type": "stream",
     "text": [
      " * Serving Flask app '__main__'\n",
      " * Debug mode: on\n"
     ]
    },
    {
     "name": "stderr",
     "output_type": "stream",
     "text": [
      "WARNING: This is a development server. Do not use it in a production deployment. Use a production WSGI server instead.\n",
      " * Running on all addresses (0.0.0.0)\n",
      " * Running on http://127.0.0.1:8080\n",
      " * Running on http://192.168.204.159:8080\n",
      "Press CTRL+C to quit\n",
      "192.168.204.159 - - [08/Jan/2024 12:26:23] \"GET / HTTP/1.1\" 404 -\n",
      "192.168.204.159 - - [08/Jan/2024 12:26:24] \"GET /favicon.ico HTTP/1.1\" 404 -\n",
      "127.0.0.1 - - [08/Jan/2024 12:26:30] \"GET / HTTP/1.1\" 404 -\n",
      "127.0.0.1 - - [08/Jan/2024 12:26:30] \"GET /favicon.ico HTTP/1.1\" 404 -\n",
      "127.0.0.1 - - [08/Jan/2024 12:26:57] \"GET / HTTP/1.1\" 404 -\n",
      "127.0.0.1 - - [08/Jan/2024 12:27:14] \"GET / HTTP/1.1\" 404 -\n",
      "127.0.0.1 - - [08/Jan/2024 12:27:14] \"GET /favicon.ico HTTP/1.1\" 404 -\n",
      "127.0.0.1 - - [08/Jan/2024 12:27:22] \"GET / HTTP/1.1\" 404 -\n",
      "192.168.204.159 - - [08/Jan/2024 12:27:33] \"GET / HTTP/1.1\" 404 -\n",
      "192.168.204.159 - - [08/Jan/2024 12:27:39] \"GET / HTTP/1.1\" 404 -\n",
      "192.168.204.159 - - [08/Jan/2024 12:28:10] \"GET / HTTP/1.1\" 404 -\n",
      "192.168.204.159 - - [08/Jan/2024 12:28:19] \"GET / HTTP/1.1\" 404 -\n",
      "192.168.204.159 - - [08/Jan/2024 12:28:26] \"GET / HTTP/1.1\" 404 -\n"
     ]
    }
   ],
   "source": [
    "from flask import Flask, jsonify\n",
    "\n",
    "app = Flask(__name__)\n",
    "\n",
    "@app.route('/solve_transport_problem', methods=['GET'])\n",
    "def solve_transport_problem():\n",
    "    import pulp\n",
    "    import timeit\n",
    "\n",
    "    start_time = timeit.default_timer()\n",
    "\n",
    "    # We create the problem object. We define it as a minimization problem.\n",
    "    transport_prob = pulp.LpProblem('Transport_Problem', pulp.LpMaximize)\n",
    "\n",
    "    # Here we define the growth, that are constants in our problem.\n",
    "    growth_usa = 0.1\n",
    "    growth_uk = 0.1\n",
    "    growth_germany = 0.1\n",
    "    growth_india = 0.1\n",
    "    growth_france = 0.1\n",
    "    growth_ksa = 0.1\n",
    "    growth_israel = 0.1\n",
    "    growth_uae = 0.1\n",
    "    growth_gcc = 0.1\n",
    "    growth_russia =0.1\n",
    "    growth_world = 0.1\n",
    "    growth_china = 0.1\n",
    "    # Here we define the offers and demands, that are constants in our problem.\n",
    "    impression_usa = 75754358\n",
    "    impression_uk = 70965631\n",
    "    impression_germany = 93648476\n",
    "    impression_india = 443656400\n",
    "    impression_france = 89833471\n",
    "    impression_ksa = 140527084\n",
    "    impression_israel = 84944832\n",
    "    impression_uae = 92011637\n",
    "    impression_gcc = 41687147\n",
    "    impression_russia = 35437563\n",
    "    impression_world = 7840580\n",
    "    impression_china = 147543403\n",
    "    total_impression = 1316160921\n",
    "\n",
    "\n",
    "\n",
    "    new_impression_usa = (1 + growth_usa) * impression_usa\n",
    "    new_impression_uk = (1 + growth_uk) * impression_uk\n",
    "    new_impression_germany = (1 + growth_germany) * impression_germany\n",
    "    new_impression_india = (1 + growth_india) * impression_india\n",
    "    new_impression_france = (1 + growth_france) * impression_france\n",
    "    new_impression_ksa = (1 + growth_ksa) * impression_ksa\n",
    "    new_impression_israel = (1 + growth_israel) * impression_israel\n",
    "    new_impression_uae = (1 + growth_uae) * impression_uae\n",
    "    new_impression_gcc = (1 + growth_gcc) * impression_gcc\n",
    "    new_impression_russia = (1 + growth_russia) * impression_russia\n",
    "    new_impression_world = (1 + growth_world) * impression_world\n",
    "    new_impression_china = (1 + growth_china) * impression_china\n",
    "\n",
    "\n",
    "\n",
    "    # Here we define the variables. Every Xij for the three warehouses and the three stores.\n",
    "    usa_budget = pulp.LpVariable(\"USA_budget\", lowBound=0)\n",
    "    uk_budget = pulp.LpVariable(\"UK_budget\", lowBound=0)\n",
    "    germany_budget = pulp.LpVariable(\"Germany_budget\", lowBound=0)\n",
    "    india_budget = pulp.LpVariable(\"India_budget\", lowBound=0)\n",
    "    france_budget = pulp.LpVariable(\"France_budget\", lowBound=0)\n",
    "    ksa_budget = pulp.LpVariable(\"KSA_budget\", lowBound=0)\n",
    "    israel_budget = pulp.LpVariable(\"Israel_budget\", lowBound=0)\n",
    "    uae_budget = pulp.LpVariable(\"UAE_budget\", lowBound=0)\n",
    "    gcc_budget = pulp.LpVariable(\"GCC_budget\", lowBound=0)\n",
    "    russia_budget = pulp.LpVariable(\"Russia_budget\", lowBound=0)\n",
    "    world_budget = pulp.LpVariable(\"World_budget\", lowBound=0)\n",
    "    china_budget = pulp.LpVariable(\"China_budget\", lowBound=0)\n",
    "\n",
    "    cpi_values = [0.00767147, 0.00605734, 0.00515035, 0.00097625, 0.00427715, 0.00262566,\n",
    "                  0.00416926, 0.00292072, 0.00131023, 0.00991607, 0.00481406, 0.00234354]\n",
    "\n",
    "    reciprocal_cpi_values = [int(1 / cpi) for cpi in cpi_values]\n",
    "\n",
    "    # Target function. We want to minimize the sum of the costs.\n",
    "    transport_prob += (usa_budget * reciprocal_cpi_values[0]) + \\\n",
    "                      (uk_budget * reciprocal_cpi_values[1]) + \\\n",
    "                      (germany_budget * reciprocal_cpi_values[2]) + \\\n",
    "                      (india_budget * reciprocal_cpi_values[3]) + \\\n",
    "                      (france_budget * reciprocal_cpi_values[4]) + \\\n",
    "                      (ksa_budget * reciprocal_cpi_values[5]) + \\\n",
    "                      (israel_budget * reciprocal_cpi_values[6]) + \\\n",
    "                      (uae_budget * reciprocal_cpi_values[7]) + \\\n",
    "                      (gcc_budget * reciprocal_cpi_values[8]) + \\\n",
    "                      (russia_budget * reciprocal_cpi_values[9]) + \\\n",
    "                      (world_budget * reciprocal_cpi_values[10]) + \\\n",
    "                      (china_budget * reciprocal_cpi_values[11])\n",
    "\n",
    "    # Restrictions:\n",
    "    transport_prob += usa_budget + uk_budget + germany_budget + india_budget + france_budget + \\\n",
    "                      ksa_budget + israel_budget + uae_budget + gcc_budget + russia_budget + \\\n",
    "                      world_budget + china_budget <= 1.2*4092100  # Specify total_budget\n",
    "\n",
    "    transport_prob += usa_budget * reciprocal_cpi_values[0] >= new_impression_usa\n",
    "    transport_prob += uk_budget * reciprocal_cpi_values[1] >= new_impression_uk\n",
    "    transport_prob += germany_budget * reciprocal_cpi_values[2] >= new_impression_germany\n",
    "    transport_prob += india_budget * reciprocal_cpi_values[3] >= new_impression_india\n",
    "    transport_prob += france_budget * reciprocal_cpi_values[4] >= new_impression_france\n",
    "    transport_prob += ksa_budget * reciprocal_cpi_values[5] >= new_impression_ksa\n",
    "    transport_prob += israel_budget * reciprocal_cpi_values[6] >= new_impression_israel\n",
    "    transport_prob += uae_budget * reciprocal_cpi_values[7] >= new_impression_uae\n",
    "    transport_prob += gcc_budget * reciprocal_cpi_values[8] >= new_impression_gcc\n",
    "    transport_prob += russia_budget * reciprocal_cpi_values[9] >= new_impression_russia\n",
    "    transport_prob += world_budget * reciprocal_cpi_values[10] >= new_impression_world\n",
    "    transport_prob += china_budget * reciprocal_cpi_values[11] >= new_impression_china\n",
    "\n",
    "    # Solve the Transport Problem\n",
    "    solution = transport_prob.solve()\n",
    "\n",
    "    # Extract results\n",
    "    results = {\n",
    "        \"usa_budget\": pulp.value(usa_budget),\n",
    "        \"uk_budget\": pulp.value(uk_budget),\n",
    "        \"germany_budget\": pulp.value(germany_budget),\n",
    "        \"india_budget\": pulp.value(india_budget),\n",
    "        \"france_budget\": pulp.value(france_budget),\n",
    "        \"ksa_budget\": pulp.value(ksa_budget),\n",
    "        \"israel_budget\": pulp.value(israel_budget),\n",
    "        \"uae_budget\": pulp.value(uae_budget),\n",
    "        \"gcc_budget\": pulp.value(gcc_budget),\n",
    "        \"russia_budget\": pulp.value(russia_budget),\n",
    "        \"world_budget\": pulp.value(world_budget),\n",
    "        \"china_budget\": pulp.value(china_budget),\n",
    "        \"max_impressions_billion\": pulp.value(transport_prob.objective) * 1e-9,\n",
    "    }\n",
    "\n",
    "    return jsonify(results)\n",
    "\n",
    "if __name__ == '__main__':\n",
    "    app.run(debug=True, host='0.0.0.0',port='8080', use_reloader=False)\n",
    "\n"
   ]
  },
  {
   "cell_type": "code",
   "execution_count": null,
   "metadata": {
    "id": "c0PZzQLeAIW4"
   },
   "outputs": [],
   "source": []
  }
 ],
 "metadata": {
  "colab": {
   "provenance": []
  },
  "kernelspec": {
   "display_name": "Python 3 (ipykernel)",
   "language": "python",
   "name": "python3"
  },
  "language_info": {
   "codemirror_mode": {
    "name": "ipython",
    "version": 3
   },
   "file_extension": ".py",
   "mimetype": "text/x-python",
   "name": "python",
   "nbconvert_exporter": "python",
   "pygments_lexer": "ipython3",
   "version": "3.10.9"
  }
 },
 "nbformat": 4,
 "nbformat_minor": 1
}
